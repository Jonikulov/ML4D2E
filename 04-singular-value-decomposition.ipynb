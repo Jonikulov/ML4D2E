{
 "cells": [
  {
   "cell_type": "markdown",
   "id": "3d81010e-3a4e-42a3-abeb-730e467ccd1b",
   "metadata": {},
   "source": [
    "# Singular Value Decomposition (SVD)\n",
    "\n",
    "**SVD equation: $A = U * Σ * V^T$**:\n",
    "- $A$: An m-x-n matrix that you want to decompose\n",
    "- $U$: An m-x-m matrix\n",
    "- $Σ$: An m-x-n diagonal matrix\n",
    "- $V^T$: A transpose of an n-x-n matrix"
   ]
  },
  {
   "cell_type": "code",
   "execution_count": 19,
   "id": "be96a955-fbce-4ddb-94e8-94d4b5d7f01d",
   "metadata": {},
   "outputs": [],
   "source": [
    "import numpy as np"
   ]
  },
  {
   "cell_type": "code",
   "execution_count": 20,
   "id": "a123382e-e24d-4949-8fca-808d3b8d5eef",
   "metadata": {},
   "outputs": [
    {
     "name": "stdout",
     "output_type": "stream",
     "text": [
      "[[1 2 3]\n",
      " [4 5 6]\n",
      " [7 8 9]]\n",
      "\n",
      "U\n",
      " [[-0.21483724  0.88723069  0.40824829]\n",
      " [-0.52058739  0.24964395 -0.81649658]\n",
      " [-0.82633754 -0.38794278  0.40824829]]\n",
      "\n",
      "s\n",
      " [1.68481034e+01 1.06836951e+00 3.33475287e-16]\n",
      "\n",
      "Vt\n",
      " [[-0.47967118 -0.57236779 -0.66506441]\n",
      " [-0.77669099 -0.07568647  0.62531805]\n",
      " [-0.40824829  0.81649658 -0.40824829]]\n",
      "\n",
      "Sigma matrix\n",
      " [[1.68481034e+01 0.00000000e+00 0.00000000e+00]\n",
      " [0.00000000e+00 1.06836951e+00 0.00000000e+00]\n",
      " [0.00000000e+00 0.00000000e+00 3.33475287e-16]]\n",
      "\n",
      "Reconstructed matrix\n",
      " [[1. 2. 3.]\n",
      " [4. 5. 6.]\n",
      " [7. 8. 9.]]\n"
     ]
    }
   ],
   "source": [
    "A = np.array([[1, 2, 3], [4, 5, 6], [7, 8, 9]])\n",
    "print(A)\n",
    "\n",
    "# Perform the decomposition.\n",
    "U, s, Vt = np.linalg.svd(A)\n",
    "print(\"\\nU\\n\", U)\n",
    "print(\"\\ns\\n\", s)\n",
    "print(\"\\nVt\\n\", Vt)\n",
    "\n",
    "# Create the m x n Sigma matrix.\n",
    "Sigma = np.diag(s)\n",
    "print(\"\\nSigma matrix\\n\", Sigma)\n",
    "\n",
    "## You might not have a square matrix, you must specify the size of Sigma\n",
    "# Sigma = np.zeros((A.shape[0], A.shape[1]))\n",
    "# Sigma[:A.shape[1], :A.shape[1]] = np.diag(s)\n",
    "\n",
    "# Reconstruct the original matrix.\n",
    "B = U.dot(Sigma.dot(Vt))\n",
    "print(\"\\nReconstructed matrix\\n\", B)"
   ]
  }
 ],
 "metadata": {
  "kernelspec": {
   "display_name": "Python 3 (ipykernel)",
   "language": "python",
   "name": "python3"
  },
  "language_info": {
   "codemirror_mode": {
    "name": "ipython",
    "version": 3
   },
   "file_extension": ".py",
   "mimetype": "text/x-python",
   "name": "python",
   "nbconvert_exporter": "python",
   "pygments_lexer": "ipython3",
   "version": "3.9.18"
  }
 },
 "nbformat": 4,
 "nbformat_minor": 5
}
