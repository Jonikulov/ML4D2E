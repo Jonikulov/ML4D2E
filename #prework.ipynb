{
 "cells": [
  {
   "cell_type": "code",
   "execution_count": 12,
   "id": "f2cb0cdf-7393-4d22-8e76-31ef3d54565d",
   "metadata": {},
   "outputs": [
    {
     "name": "stdout",
     "output_type": "stream",
     "text": [
      "Python Version:\n",
      " 3.9.18 | packaged by conda-forge | (main, Aug 30 2023, 03:40:31) [MSC v.1929 64 bit (AMD64)]\n",
      "\n",
      "Anaconda Version:\n",
      " # packages in environment at C:\\Users\\JAVOHIR\\miniconda3\\envs\\mohirdsai:\n",
      "#\n",
      "# Name                    Version                   Build  Channel\n",
      "fonts-conda-ecosystem     1                             0    conda-forge\n",
      "fonts-conda-forge         1                             0    conda-forge\n",
      "msys2-conda-epoch         20160418                      1    conda-forge\n",
      "\n"
     ]
    }
   ],
   "source": [
    "import sys\n",
    "print('Python Version:\\n', sys.version)\n",
    "\n",
    "import os\n",
    "result = os.popen('conda list conda').read()\n",
    "print('\\nAnaconda Version:\\n', result)"
   ]
  },
  {
   "cell_type": "markdown",
   "id": "51b136c7-8771-43cf-ae24-fbbe22a656e3",
   "metadata": {},
   "source": [
    "#### Datasets\n",
    "- https://www.kaggle.com/rakannimer/air-passengers\n",
    "- https://www.kaggle.com/lakshmi25npathi/imdb-datasetof\n",
    "- https://github.com/zalandoresearch/fashion-mnist\n",
    "- https://jobs.zalando.com/en/tech/\n",
    "- https://github.com/allisonhorst/palmerpenguins\n",
    "- https://www.kaggle.com/kingburrito666/shakespeareplays\n",
    "- https://www.kaggle.com/datasets/uciml/sms-spam-collection-dataset\n",
    "- https://www.kaggle.com/datasets/ehallmar/a-large-tennis-dataset-for-atp-and-itf-betting\n",
    "- https://www.openml.org/d/40945\n",
    "- https://www.kaggle.com/sgus1318/winedata"
   ]
  },
  {
   "cell_type": "code",
   "execution_count": 8,
   "id": "95037557-c885-49ba-a72d-7c2ba85c901d",
   "metadata": {},
   "outputs": [],
   "source": [
    "SetA = set(['Red', 'Blue', 'Green', 'Black'])\n",
    "SetB = set(['Black', 'Green', 'Yellow', 'Orange'])"
   ]
  },
  {
   "cell_type": "code",
   "execution_count": 9,
   "id": "370c0d6f-1e6a-4b93-850a-3914a65a4522",
   "metadata": {},
   "outputs": [],
   "source": [
    "SetX = SetA.union(SetB)\n",
    "SetY = SetA.intersection(SetB)\n",
    "SetZ = SetA.difference(SetB)"
   ]
  },
  {
   "cell_type": "code",
   "execution_count": 23,
   "id": "9b9efb9f-75b1-43d9-bd3b-dc8aa3058c54",
   "metadata": {},
   "outputs": [],
   "source": [
    "# SetA.issuperset(SetY)\n",
    "\n",
    "# SetA.issubset(SetX)\n",
    "\n",
    "# SetA.add('Purple')\n",
    "\n",
    "# SetA.issubset(SetX)"
   ]
  },
  {
   "cell_type": "code",
   "execution_count": 10,
   "id": "1e2536ab-5888-4d27-a225-8d910d0b72e3",
   "metadata": {},
   "outputs": [
    {
     "data": {
      "text/plain": [
       "[0, 1, 2, 3, 4, 5, 6, 7]"
      ]
     },
     "execution_count": 10,
     "metadata": {},
     "output_type": "execute_result"
    }
   ],
   "source": [
    "ListA = [0, 1, 2, 3]\n",
    "ListB = [4, 5, 6, 7]\n",
    "ListA.extend(ListB)\n",
    "ListA"
   ]
  },
  {
   "cell_type": "code",
   "execution_count": 21,
   "id": "fba4852e-1736-49d3-a22e-125d93829b4e",
   "metadata": {},
   "outputs": [
    {
     "data": {
      "text/plain": [
       "[0, 1, 2, 3, 4, 5, 6, 7, -5, -5]"
      ]
     },
     "execution_count": 21,
     "metadata": {},
     "output_type": "execute_result"
    }
   ],
   "source": [
    "ListA.append(-5)\n",
    "ListA"
   ]
  },
  {
   "cell_type": "code",
   "execution_count": 22,
   "id": "b806bd99-aa49-46b0-bfdd-b24733e40ee2",
   "metadata": {},
   "outputs": [
    {
     "data": {
      "text/plain": [
       "[0, 1, 2, 3, 4, 5, 6, 7, -5]"
      ]
     },
     "execution_count": 22,
     "metadata": {},
     "output_type": "execute_result"
    }
   ],
   "source": [
    "ListA.remove(-5)\n",
    "ListA"
   ]
  },
  {
   "cell_type": "code",
   "execution_count": null,
   "id": "366e4e79-a8b9-41cf-94dd-f1312336703a",
   "metadata": {},
   "outputs": [],
   "source": [
    "ListX = ListA + ListB"
   ]
  },
  {
   "cell_type": "code",
   "execution_count": null,
   "id": "2bfa2fb8-0e1b-4dee-84ad-beff315a07f4",
   "metadata": {},
   "outputs": [],
   "source": [
    "Letters = [letter.upper() for letter in \"Hello\"]\n",
    "print(Letters)"
   ]
  },
  {
   "cell_type": "markdown",
   "id": "bb1fed61-5262-40f9-a586-804f4b5516bf",
   "metadata": {},
   "source": [
    "#### Slicing and dicing lists\r\n",
    "\r\n",
    "- MyList.append(x): Adds an element to the end of the list.\r\n",
    "\r\n",
    "- MyList.insert(index, value): Adds an element, value, to the location specified by index to the list.\r\n",
    "The first item in a list is numbered 0, rather than 1, as you might think. So,\r\n",
    "when adding the number 4 to the front of MyList, you use MyList.\r\n",
    "insert(0, 4).\r\n",
    "\r\n",
    "- MyList.remove(x): Removes the first occurrence of x from the list.\r\n",
    "\r\n",
    "- MyList.extend(ListB): Appends the elements in ListB to the end of MyList.\r\n",
    "\r\n",
    "- MyList[a:b]: Returns just the part of the list expressed by the beginning point, a, and the ending point, b. You may optionally add a third element, a step, that tells how  many elements to skip between outputs.\r\n",
    "\r\n",
    "- MyList.index(value): Returns the index of the first occurrence of value in the list.\r\n",
    "\r\n",
    "- MyList.sort(): Sorts the list in order. You may specify reverse=True to sort the list in reverse order. In addition, you can provide a special function to define the sort order.\r\n",
    "\r\n",
    "- len(MyList): Displays the list length.\r\n",
    "\r\n",
    "- max(MyList): Obtains the maximum value in the list.\r\n",
    "\r\n",
    "- min(MyList): Obtains the minimum value in the list."
   ]
  },
  {
   "cell_type": "code",
   "execution_count": 24,
   "id": "1431fef5-c75d-4682-bf26-6ffb280126cb",
   "metadata": {},
   "outputs": [],
   "source": [
    "MyTuple = (1, 2, 3, (4, 5, 6, (7, 8, 9)))"
   ]
  },
  {
   "cell_type": "code",
   "execution_count": 25,
   "id": "4bffa1b6-e0aa-48ed-b0ac-140d138dabb2",
   "metadata": {},
   "outputs": [
    {
     "name": "stdout",
     "output_type": "stream",
     "text": [
      "1\n",
      "2\n",
      "3\n",
      "\t 4\n",
      "\t 5\n",
      "\t 6\n",
      "\t\t 7\n",
      "\t\t 8\n",
      "\t\t 9\n"
     ]
    }
   ],
   "source": [
    "for Value1 in MyTuple:\n",
    "    if type(Value1) == int:\n",
    "        print(Value1)\n",
    "    else:\n",
    "        for Value2 in Value1:\n",
    "            if type(Value2) == int:\n",
    "                print(\"\\t\", Value2)\n",
    "            else:\n",
    "                for Value3 in Value2:\n",
    "                    print(\"\\t\\t\", Value3)"
   ]
  },
  {
   "cell_type": "code",
   "execution_count": 26,
   "id": "73d11b4c-e265-4fc1-aa1f-491f4748ab04",
   "metadata": {},
   "outputs": [
    {
     "data": {
      "text/plain": [
       "(1, 2, 3, (4, 5, 6, (7, 8, 9)), 10, 11, 12, (13, 14, 15))"
      ]
     },
     "execution_count": 26,
     "metadata": {},
     "output_type": "execute_result"
    }
   ],
   "source": [
    "MyNewTuple = MyTuple.__add__((10, 11, 12, (13, 14, 15)))\n",
    "MyNewTuple"
   ]
  },
  {
   "cell_type": "code",
   "execution_count": 1,
   "id": "adc9e8b9-631b-4a63-8877-be4e48ece9e1",
   "metadata": {},
   "outputs": [],
   "source": [
    "def MyLetter():\n",
    "    for Letter in Letters:\n",
    "        yield Letter"
   ]
  },
  {
   "cell_type": "code",
   "execution_count": 2,
   "id": "b60de35d-0c2b-4242-854d-5858bd6606e9",
   "metadata": {},
   "outputs": [],
   "source": [
    "Letters = [letter.upper() for letter in \"Hello\"]"
   ]
  },
  {
   "cell_type": "code",
   "execution_count": 7,
   "id": "b2a94a41-2e03-42b8-8b83-65e4ee7426c1",
   "metadata": {},
   "outputs": [
    {
     "data": {
      "text/plain": [
       "'O'"
      ]
     },
     "execution_count": 7,
     "metadata": {},
     "output_type": "execute_result"
    }
   ],
   "source": [
    "ListIt = MyLetter()\n",
    "next(ListIt)\n",
    "next(ListIt)\n",
    "next(ListIt)\n",
    "next(ListIt)\n",
    "next(ListIt)"
   ]
  },
  {
   "cell_type": "markdown",
   "id": "4f84691c-0af3-43e2-b7ca-056bbacfef29",
   "metadata": {},
   "source": [
    "- https://colab.research.google.com/notebooks/forms.ipynb"
   ]
  },
  {
   "cell_type": "code",
   "execution_count": 30,
   "id": "fea5c922-45a1-478a-b647-b54bbeef46f0",
   "metadata": {},
   "outputs": [
    {
     "data": {
      "text/plain": [
       "array([100])"
      ]
     },
     "execution_count": 30,
     "metadata": {},
     "output_type": "execute_result"
    }
   ],
   "source": [
    "import numpy as np\n",
    "\n",
    "arr1 = np.array([1, 3, 5, 7])\n",
    "arr2 = np.array([2, 4, 6, 8]).reshape(4, 1)\n",
    "# dot product of vectors\n",
    "arr1 @ arr2"
   ]
  },
  {
   "cell_type": "code",
   "execution_count": 37,
   "id": "5e37b713-ea62-4e29-a3cf-2849d0017d6a",
   "metadata": {},
   "outputs": [
    {
     "data": {
      "text/plain": [
       "array([ 1,  9, 25, 49])"
      ]
     },
     "execution_count": 37,
     "metadata": {},
     "output_type": "execute_result"
    }
   ],
   "source": [
    "arr1 ** 2"
   ]
  },
  {
   "cell_type": "code",
   "execution_count": 38,
   "id": "96cfd6e3-e548-44de-9824-e79b61229abc",
   "metadata": {},
   "outputs": [
    {
     "data": {
      "text/plain": [
       "array([  2,   8,  32, 128], dtype=int32)"
      ]
     },
     "execution_count": 38,
     "metadata": {},
     "output_type": "execute_result"
    }
   ],
   "source": [
    "2 ** arr1"
   ]
  }
 ],
 "metadata": {
  "kernelspec": {
   "display_name": "Python 3 (ipykernel)",
   "language": "python",
   "name": "python3"
  },
  "language_info": {
   "codemirror_mode": {
    "name": "ipython",
    "version": 3
   },
   "file_extension": ".py",
   "mimetype": "text/x-python",
   "name": "python",
   "nbconvert_exporter": "python",
   "pygments_lexer": "ipython3",
   "version": "3.9.18"
  }
 },
 "nbformat": 4,
 "nbformat_minor": 5
}
